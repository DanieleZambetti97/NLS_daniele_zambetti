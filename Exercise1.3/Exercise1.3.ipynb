{
 "cells": [
  {
   "cell_type": "markdown",
   "metadata": {},
   "source": [
    "### Exercise 01.3\n",
    "- **Simulate** the Buffon’s experiment (see LSN_Lecture_00, supplementary material):  A needle of length $L$ is thrown at random onto a horizontal plane ruled with straight lines a distance $d$ (must be $d > L$, but do not use $d\\gg L$ otherwise $P\\ll 1$) apart. The probability $P$ that the needle will intersect one of these lines is: $P = 2L/\\pi d$. This could be used to evaluate $\\pi$ from throws of the needle: if the needle is thrown down $N_{thr}$ times and is observed to land on a line $N_{hit}$ of those times, we can make an estimate of $\\pi$ from\n",
    "$$\\pi = \\frac{2L}{Pd} = \\lim_{N_{thr} \\to \\infty}\\frac{2LN_{thr}}{N_{hit}d}$$\n",
    "<font color=\"red\">Make a picture of the estimation of $\\pi$ and its uncertainty (Standard Deviation of the mean) with a large number of *throws* $M$ as a function of the number of blocks, $N$</font> (see below: Computing statistical uncertainties). If possible, do not use $\\pi$ to evaluate $\\pi$."
   ]
  },
  {
   "cell_type": "markdown",
   "metadata": {},
   "source": [
    "Il programma implementato per risolvere questo esercizio ha la stessa struttura del programma scritto per risolvere l'esercizio 1.1, è composto da 3 file *main.cpp*, *random.cpp* e *datablocking.cpp*. \n",
    "\n",
    "Il *main()* del programma dopo aver dichiarato tutte le variabili utili e inizilizato il generatore di numeri casuali, inizia ad eseguire due cicli for. Quello più esterno cicla sul numero di blocchi quello più interno simula il lancio di N aghi sul piano.\n",
    "\n",
    "La simulazione del lancio di un ago è fatta generando un numero casuale unifomente distribuito in [0,10] che fissa l'ascissa nel piano di un'estremità dell'ago e un altro numero che indica una direzione casuale corrispondente all'inclinazione dell'ago. Il programma quindi determina l'altra estremità dell'ago con una semplice fomula trigonometrica (essendo nota l'inclinazione e la lunghezza dell'ago). Per verificare se l'ago interseca o meno le linee del piano (che sono immaginate in corrispondenza dei valori interi delle ascisse), il programma controlla se la parte intera delle due estremintà è la stessa (l'ago non tocca nessuna linea) o sono diverse (l'ago intercetta una linea).\n",
    "\n",
    "Il programma riempie quindi il vettore *PI* con la stima di $\\pi$ che ciascun blocco di lanci di ago forsisce. Questo vettore viene quindi passato alla funzione *DataBlocking* che fornisce l'errore di cisacuna stima di $\\pi$ al variare del numero di blocchi utilizzato per ricavare quel valore.\n",
    "\n",
    "Osserviamo che:\n",
    "- Il metodo della classe *Random* che genera direzioni casuali unifmemente distribuite sui 360° generando putni in un quadrato di lato [-1,1] escludendo tutti quei punti che risultano esterni al cerchio inscritto a questo quadrato e restituendo la direzione dei punti non scartati.\n",
    "- I risultati ottenuti sono tutti compatibili entro le loro barre di errore con il valore noto di $\\pi=3.1415926$\n"
   ]
  },
  {
   "cell_type": "code",
   "execution_count": 1,
   "metadata": {},
   "outputs": [
    {
     "name": "stdout",
     "output_type": "stream",
     "text": [
      "Miglior stima di pi =  3.13512 \n",
      " incertezza =  0.00953302\n"
     ]
    },
    {
     "data": {
      "image/png": "[encoded data removed]",
      "text/plain": [
       "<Figure size 432x288 with 1 Axes>"
      ]
     },
     "metadata": {},
     "output_type": "display_data"
    }
   ],
   "source": [
    "import matplotlib\n",
    "import matplotlib.pyplot as plt\n",
    "import numpy as np\n",
    "\n",
    "x1, f1, error1 = np.loadtxt(\"./code/Risultati.dat\", usecols=(0,1,2), delimiter='\t', unpack='true')\n",
    "plt.errorbar(x1,f1,yerr=error1, fmt='r.', errorevery=1, elinewidth=1, ecolor='green', capsize=1, ms=3)\n",
    "plt.xlabel('Numers of throw')\n",
    "plt.ylabel('<r>-0.5')\n",
    "\n",
    "print( \"Miglior stima di pi = \",f1[-1],\"\\n incertezza = \",error1[-1])\n",
    "plt.grid(True)\n",
    "\n",
    "plt.show()"
   ]
  },
  {
   "cell_type": "code",
   "execution_count": null,
   "metadata": {},
   "outputs": [],
   "source": []
  }
 ],
 "metadata": {
  "kernelspec": {
   "display_name": "Python 3",
   "language": "python",
   "name": "python3"
  },
  "language_info": {
   "codemirror_mode": {
    "name": "ipython",
    "version": 3
   },
   "file_extension": ".py",
   "mimetype": "text/x-python",
   "name": "python",
   "nbconvert_exporter": "python",
   "pygments_lexer": "ipython3",
   "version": "3.6.5"
  }
 },
 "nbformat": 4,
 "nbformat_minor": 2
}
