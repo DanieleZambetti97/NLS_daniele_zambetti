{
 "cells": [
  {
   "cell_type": "markdown",
   "metadata": {},
   "source": [
    "### Exercise 07.4\n",
    "\n",
    "By means of your upgraded MC code, equilibrate and <span style=\"color:red\">perform MC NVT simulations via a Lennard-Jones model</span> of Argon ($\\sigma = 0.34$ nm, $\\epsilon/k_B = 120$ K, $m=39.948$ amu) and Krypton ($\\sigma = 0.364$ nm, $\\epsilon/k_B = 164$ K, $m=83.798$ amu) in the following conditions:\n",
    "1. solid phase: $\\rho^\\star = 1.1$, $T^\\star = 0.8$ (cut-off radius: $r_c = 2.2$)\n",
    "2. liquid phase: $\\rho^\\star = 0.8$, $T^\\star = 1.1$ (cut-off radius: $r_c = 2.5$)\n",
    "3. gas phase: $\\rho^\\star = 0.05$, $T^\\star = 1.2$ (cut-off radius: $r_c = 5.0$)\n",
    "\n",
    "<span style=\"color:red\">show in pictures the obtained average values and uncertainties for the potential energy per particle, $U/N$, the pressure $P$ and the radial distribution function $g(r)$ in SI units ... and compare your MC results for the radial distribution function, $g(r)$, with those obtained with Molecular Dynamics NVE simulations in similar thermodynamic conditions.</span>"
   ]
  },
  {
   "cell_type": "markdown",
   "metadata": {},
   "source": [
    "Il programma implementato è identico a quello utilizzato nell'esercizio 7.3. Ciascuno stato termodinamico è stato equilibrato andando a modificare il parametro *delta* caricato dal file *input.dat* in modo che l'accetazione delle mosse dell'algoritmo Metropolis fosse circa $0.5$.\n",
    "Successivamente sono state eseguite tre simulazioni nelle tre condizioni termodinamiche richieste con un numero di passi uguale a:\n",
    "- 2000 per la fase solida\n",
    "- 3000 per la fase liquida\n",
    "- 1000 per la fase gassosa\n",
    "\n",
    "Il numero di passi scelto è tale che in ogni simulazione fosse possibile formare $20$ blocchi della lunghezza corretta affinchè le medie di ciascuno siano scorrelate (vedere esecizio 7.1).\n",
    "\n",
    "I risultati di queste simulazioni sono poi stati convertiti in unità SI per i due elementi richiesti (Argon e Kripton) e sono raccolti nei grafici qui riportati:\n",
    "- Argon solido:\n",
    "<img src=\"./pictures/solid_datablocking_Argon.png\">\n",
    "- Argon liquido:\n",
    "<img src=\"./pictures/liquid_datablocking_Argon.png\">\n",
    "- Argon gassoso:\n",
    "<img src=\"./pictures/gas_datablocking_Argon.png\">\n",
    "- Kripton solido:\n",
    "<img src=\"./pictures/solid_datablocking_Krypton.png\">\n",
    "- kripton liquido:\n",
    "<img src=\"./pictures/liquid_datablocking_Krypton.png\">\n",
    "- Kripton gassoso:\n",
    "<img src=\"./pictures/gas_datablocking_Krypton.png\">\n"
   ]
  },
  {
   "cell_type": "markdown",
   "metadata": {},
   "source": [
    "Per quanto riguarda le g(r) nelle tre frasi si ottiene:\n",
    "- Solido\n",
    "<img src=\"./pictures/solid_gofr.png\">\n",
    "<img src=\"./pictures/MDy_solid_gofr.png\">\n",
    "- Liquido\n",
    "<img src=\"./pictures/liquid_gofr.png\">\n",
    "<img src=\"./pictures/MDy_liquid_gofr.png\">\n",
    "- Gas\n",
    "<img src=\"./pictures/gas_gofr.png\">\n",
    "<img src=\"./pictures/MDy_gas_gofr.png\">\n"
   ]
  },
  {
   "cell_type": "code",
   "execution_count": null,
   "metadata": {},
   "outputs": [],
   "source": []
  },
  {
   "cell_type": "code",
   "execution_count": null,
   "metadata": {
    "scrolled": true
   },
   "outputs": [],
   "source": [
    "import numpy as np\n",
    "import matplotlib\n",
    "import matplotlib.pyplot as plt\n",
    "fig=plt.figure(figsize=(15, 5))\n",
    "\n",
    "sigma=0.34\n",
    "e_su_kb=120\n",
    "\n",
    "plt.subplot(1,2,1)\n",
    "x, f, error = np.loadtxt(\"./code/risultati/output_epot.dat\", usecols=(0,1,2), delimiter='\t', unpack='true')\n",
    "plt.errorbar(x,f*e_su_kb*1.38**-23,yerr=error*e_su_kb*1.38**-23, errorevery=1, elinewidth=1, capsize=1, ms=3)\n",
    "plt.xlabel('Numers of block')\n",
    "plt.ylabel(\"Epot/N [J]\")\n",
    "plt.title(\"Data Blocking: Potential Energy\")\n",
    "plt.grid(True)\n",
    "\n",
    "plt.subplot(1,2,2)\n",
    "x, f, error = np.loadtxt(\"./code/risultati/output_pres.dat\", usecols=(0,1,2), delimiter='\t', unpack='true')\n",
    "plt.errorbar(x,f*e_su_kb*1.38**-23/(sigma*10**-9)**3,yerr=error*e_su_kb*1.38**-23/(sigma*10**-9)**3, errorevery=1, elinewidth=1, capsize=1, ms=3)\n",
    "plt.xlabel('Numers of block')\n",
    "plt.ylabel(\"Pressure [Pa]\")\n",
    "plt.title(\"Data Blocking: Pressure\")\n",
    "plt.grid(True)\n",
    "\n",
    "plt.tight_layout()\n",
    "plt.savefig(\"./pictures/gas_datablocking_Argon.png\")\n",
    "plt.show()"
   ]
  },
  {
   "cell_type": "code",
   "execution_count": null,
   "metadata": {},
   "outputs": [],
   "source": [
    "fig=plt.figure(figsize=(15, 5))\n",
    "sigma=0.364\n",
    "e_su_kb=164\n",
    "\n",
    "plt.subplot(1,2,1)\n",
    "x, f, error = np.loadtxt(\"./code/risultati/output_epot.dat\", usecols=(0,1,2), delimiter='\t', unpack='true')\n",
    "plt.errorbar(x,f*e_su_kb*1.38**-23,yerr=error*e_su_kb*1.38**-23, errorevery=1, elinewidth=1, capsize=1, ms=3)\n",
    "plt.xlabel('Numers of block')\n",
    "plt.ylabel(\"Epot/N [J]\")\n",
    "plt.title(\"Data Blocking: Potential Energy\")\n",
    "plt.grid(True)\n",
    "\n",
    "plt.subplot(1,2,2)\n",
    "x, f, error = np.loadtxt(\"./code/risultati/output_pres.dat\", usecols=(0,1,2), delimiter='\t', unpack='true')\n",
    "plt.errorbar(x,f*e_su_kb*1.38**-23/(sigma*10**-9)**3,yerr=error*e_su_kb*1.38**-23/(sigma*10**-9)**3, errorevery=1, elinewidth=1, capsize=1, ms=3)\n",
    "plt.xlabel('Numers of block')\n",
    "plt.ylabel(\"Pressure [Pa]\")\n",
    "plt.title(\"Data Blocking: Pressure\")\n",
    "plt.grid(True)\n",
    "\n",
    "plt.tight_layout()\n",
    "plt.savefig(\"./pictures/gas_datablocking_Krypton.png\")\n",
    "plt.show()"
   ]
  },
  {
   "cell_type": "code",
   "execution_count": null,
   "metadata": {},
   "outputs": [],
   "source": [
    "fig=plt.figure(figsize=(10, 5))\n",
    "nblk=20\n",
    "data = np.loadtxt('./code/risultati/output_gofr.dat')\n",
    "datalist = np.split(data,nblk)\n",
    "i, data, error = np.loadtxt('./code/risultati/output_gave.dat', usecols=(0,1,2),delimiter='\t', unpack='true', skiprows=(nblk-1)*len(datalist[1]))\n",
    "plt.errorbar(np.arange(1./len(datalist[1]),1.+1./len(datalist[1]),1./len(datalist[1])),data, yerr=error)\n",
    "plt.title(\"g(r) MC NVT\")\n",
    "plt.xlabel(\"r in L/2 unit\")\n",
    "plt.ylabel(\"g(r)\")\n",
    "plt.grid()\n",
    "plt.tight_layout()\n",
    "plt.savefig(\"./pictures/gas_gofr.png\")\n",
    "plt.show()\n"
   ]
  },
  {
   "cell_type": "code",
   "execution_count": null,
   "metadata": {},
   "outputs": [],
   "source": []
  }
 ],
 "metadata": {
  "kernelspec": {
   "display_name": "Python 3",
   "language": "python",
   "name": "python3"
  },
  "language_info": {
   "codemirror_mode": {
    "name": "ipython",
    "version": 3
   },
   "file_extension": ".py",
   "mimetype": "text/x-python",
   "name": "python",
   "nbconvert_exporter": "python",
   "pygments_lexer": "ipython3",
   "version": "3.6.5"
  }
 },
 "nbformat": 4,
 "nbformat_minor": 2
}
